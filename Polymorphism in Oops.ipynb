{
 "cells": [
  {
   "cell_type": "markdown",
   "metadata": {},
   "source": [
    "# Polymorphism in Oops\n",
    "# By Awais Manzoor \n",
    "# Data Analyst"
   ]
  },
  {
   "cell_type": "markdown",
   "metadata": {},
   "source": [
    "i. Method Overriding\n",
    "ii. Method Overloading\n",
    "iii. Operator Overloading"
   ]
  },
  {
   "cell_type": "code",
   "execution_count": 1,
   "metadata": {},
   "outputs": [
    {
     "name": "stdout",
     "output_type": "stream",
     "text": [
      "12.56\n",
      "12\n"
     ]
    }
   ],
   "source": [
    "#Polymorphism in Python:\n",
    "#Polymorphism means \"many forms\". In object-oriented programming, it allows one action or method to behave differently based on the context (object or data type). It makes the code more flexible and reusable\n",
    "class Shape:\n",
    "\n",
    "  def area(self,a,b=0):\n",
    "    if b == 0:\n",
    "      return 3.14*a*a\n",
    "    else:\n",
    "      return a*b\n",
    "\n",
    "s = Shape()\n",
    "\n",
    "print(s.area(2))\n",
    "print(s.area(3,4))"
   ]
  },
  {
   "cell_type": "markdown",
   "metadata": {},
   "source": [
    "# Operator Overloading:\n"
   ]
  },
  {
   "cell_type": "code",
   "execution_count": 8,
   "metadata": {},
   "outputs": [
    {
     "data": {
      "text/plain": [
       "'Python allows customization of operators (e.g., +, -, *) for user-defined classes.\\nThis is done by overriding special methods like __add__, __sub__, etc.'"
      ]
     },
     "execution_count": 8,
     "metadata": {},
     "output_type": "execute_result"
    }
   ],
   "source": [
    "\"\"\"Python allows customization of operators (e.g., +, -, *) for user-defined classes.\n",
    "This is done by overriding special methods like __add__, __sub__, etc.\"\"\""
   ]
  },
  {
   "cell_type": "code",
   "execution_count": 9,
   "metadata": {},
   "outputs": [
    {
     "name": "stdout",
     "output_type": "stream",
     "text": [
      "Point(4, 6)\n"
     ]
    }
   ],
   "source": [
    "class Point:\n",
    "    def __init__(self, x, y):\n",
    "        self.x = x\n",
    "        self.y = y\n",
    "\n",
    "    def __add__(self, other):\n",
    "        return Point(self.x + other.x, self.y + other.y)\n",
    "\n",
    "    def __str__(self):\n",
    "        return f\"Point({self.x}, {self.y})\"\n",
    "\n",
    "p1 = Point(1, 2)\n",
    "p2 = Point(3, 4)\n",
    "result = p1 + p2  # Calls __add__\n",
    "print(result)     # Output: Point(4, 6)\n"
   ]
  },
  {
   "cell_type": "code",
   "execution_count": 3,
   "metadata": {},
   "outputs": [
    {
     "name": "stdout",
     "output_type": "stream",
     "text": [
      "Hello, world!\n",
      "Hello, world!. I'm a Python programmer.\n"
     ]
    }
   ],
   "source": [
    "# concatination\n",
    "print(\"Hello, \" + \"world!\")\n",
    "print(\"Hello, \" + \"world!\" + \". I'm a Python programmer.\")"
   ]
  },
  {
   "cell_type": "code",
   "execution_count": 4,
   "metadata": {},
   "outputs": [
    {
     "data": {
      "text/plain": [
       "9"
      ]
     },
     "execution_count": 4,
     "metadata": {},
     "output_type": "execute_result"
    }
   ],
   "source": [
    "4 + 5"
   ]
  },
  {
   "cell_type": "code",
   "execution_count": 5,
   "metadata": {},
   "outputs": [
    {
     "data": {
      "text/plain": [
       "[1, 2, 3, 4, 5]"
      ]
     },
     "execution_count": 5,
     "metadata": {},
     "output_type": "execute_result"
    }
   ],
   "source": [
    "# merge \n",
    "[1,2,3] + [4,5]"
   ]
  },
  {
   "cell_type": "markdown",
   "metadata": {},
   "source": [
    "# Method Overriding"
   ]
  },
  {
   "cell_type": "code",
   "execution_count": 6,
   "metadata": {},
   "outputs": [
    {
     "name": "stdout",
     "output_type": "stream",
     "text": [
      "Animals make sounds\n",
      "Dogs bark\n"
     ]
    }
   ],
   "source": [
    "class Animal:\n",
    "    def sound(self):\n",
    "        print(\"Animals make sounds\")\n",
    "\n",
    "class Dog(Animal):\n",
    "    def sound(self):\n",
    "        print(\"Dogs bark\")\n",
    "\n",
    "# Creating objects\n",
    "animal = Animal()\n",
    "dog = Dog()\n",
    "\n",
    "animal.sound()  # Output: Animals make sounds\n",
    "dog.sound()     # Output: Dogs bark\n"
   ]
  },
  {
   "cell_type": "markdown",
   "metadata": {},
   "source": [
    "# Method Overloading "
   ]
  },
  {
   "cell_type": "code",
   "execution_count": 7,
   "metadata": {},
   "outputs": [
    {
     "name": "stdout",
     "output_type": "stream",
     "text": [
      "5\n",
      "15\n"
     ]
    }
   ],
   "source": [
    "class Calculator:\n",
    "    def add(self, a, b=0):\n",
    "        return a + b\n",
    "\n",
    "calc = Calculator()\n",
    "print(calc.add(5))       # Output: 5 (uses only one argument)\n",
    "print(calc.add(5, 10))   # Output: 15 (uses two arguments)\n"
   ]
  },
  {
   "cell_type": "markdown",
   "metadata": {},
   "source": [
    "# Polymorphism with Abstract Classes:"
   ]
  },
  {
   "cell_type": "code",
   "execution_count": 12,
   "metadata": {},
   "outputs": [
    {
     "name": "stdout",
     "output_type": "stream",
     "text": [
      "78.5\n",
      "24\n"
     ]
    }
   ],
   "source": [
    "from abc import ABC, abstractmethod\n",
    "\n",
    "class Shape(ABC):\n",
    "    @abstractmethod\n",
    "    def area(self):\n",
    "        pass\n",
    "\n",
    "class Circle(Shape):\n",
    "    def __init__(self, radius):\n",
    "        self.radius = radius\n",
    "\n",
    "    def area(self):\n",
    "        return 3.14 * self.radius ** 2\n",
    "\n",
    "class Rectangle(Shape):\n",
    "    def __init__(self, length, breadth):\n",
    "        self.length = length\n",
    "        self.breadth = breadth\n",
    "\n",
    "    def area(self):\n",
    "        return self.length * self.breadth\n",
    "\n",
    "circle = Circle(5)\n",
    "rectangle = Rectangle(4, 6)\n",
    "\n",
    "print(circle.area())      # Output: 78.5\n",
    "print(rectangle.area())   # Output: 24\n"
   ]
  },
  {
   "cell_type": "markdown",
   "metadata": {},
   "source": [
    "# Prepration"
   ]
  },
  {
   "cell_type": "code",
   "execution_count": 10,
   "metadata": {},
   "outputs": [
    {
     "name": "stdout",
     "output_type": "stream",
     "text": [
      "7\n",
      "Hello, World\n"
     ]
    }
   ],
   "source": [
    "def add(a, b):\n",
    "    return a + b\n",
    "\n",
    "print(add(3, 4))          # Output: 7 (int addition)\n",
    "print(add(\"Hello, \", \"World\"))  # Output: Hello, World (string concatenation)\n"
   ]
  },
  {
   "cell_type": "code",
   "execution_count": 11,
   "metadata": {},
   "outputs": [
    {
     "name": "stdout",
     "output_type": "stream",
     "text": [
      "Bird is flying\n",
      "Airplane is flying\n"
     ]
    }
   ],
   "source": [
    "class Bird:\n",
    "    def fly(self):\n",
    "        print(\"Bird is flying\")\n",
    "\n",
    "class Airplane:\n",
    "    def fly(self):\n",
    "        print(\"Airplane is flying\")\n",
    "\n",
    "def make_it_fly(obj):\n",
    "    obj.fly()\n",
    "\n",
    "bird = Bird()\n",
    "plane = Airplane()\n",
    "\n",
    "make_it_fly(bird)  # Output: Bird is flying\n",
    "make_it_fly(plane) # Output: Airplane is flying\n"
   ]
  },
  {
   "cell_type": "code",
   "execution_count": null,
   "metadata": {},
   "outputs": [],
   "source": []
  }
 ],
 "metadata": {
  "kernelspec": {
   "display_name": "Python 3",
   "language": "python",
   "name": "python3"
  },
  "language_info": {
   "codemirror_mode": {
    "name": "ipython",
    "version": 3
   },
   "file_extension": ".py",
   "mimetype": "text/x-python",
   "name": "python",
   "nbconvert_exporter": "python",
   "pygments_lexer": "ipython3",
   "version": "3.12.2"
  }
 },
 "nbformat": 4,
 "nbformat_minor": 2
}
