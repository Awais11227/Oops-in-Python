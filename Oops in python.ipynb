{
 "cells": [
  {
   "cell_type": "markdown",
   "metadata": {},
   "source": [
    "# Oops in python \n",
    "# By Awais Manzoor \n",
    "# Data Analyst"
   ]
  },
  {
   "cell_type": "code",
   "execution_count": 1,
   "metadata": {},
   "outputs": [
    {
     "ename": "AttributeError",
     "evalue": "'list' object has no attribute 'lower'",
     "output_type": "error",
     "traceback": [
      "\u001b[1;31m---------------------------------------------------------------------------\u001b[0m",
      "\u001b[1;31mAttributeError\u001b[0m                            Traceback (most recent call last)",
      "Cell \u001b[1;32mIn[1], line 3\u001b[0m\n\u001b[0;32m      1\u001b[0m L \u001b[38;5;241m=\u001b[39m [\u001b[38;5;241m1\u001b[39m,\u001b[38;5;241m2\u001b[39m,\u001b[38;5;241m3\u001b[39m]\n\u001b[1;32m----> 3\u001b[0m \u001b[43mL\u001b[49m\u001b[38;5;241;43m.\u001b[39;49m\u001b[43mlower\u001b[49m()\n",
      "\u001b[1;31mAttributeError\u001b[0m: 'list' object has no attribute 'lower'"
     ]
    }
   ],
   "source": [
    "L = [1,2,3]\n",
    "\n",
    "L.lower() # see the error list is besically in all things are object in python . thats why show error "
   ]
  },
  {
   "cell_type": "code",
   "execution_count": null,
   "metadata": {},
   "outputs": [],
   "source": [
    "# create an object\n",
    "\n",
    "#objectname = classname()"
   ]
  },
  {
   "cell_type": "code",
   "execution_count": 3,
   "metadata": {},
   "outputs": [
    {
     "data": {
      "text/plain": [
       "[]"
      ]
     },
     "execution_count": 3,
     "metadata": {},
     "output_type": "execute_result"
    }
   ],
   "source": [
    "list = list()\n",
    "list"
   ]
  },
  {
   "cell_type": "code",
   "execution_count": 4,
   "metadata": {},
   "outputs": [
    {
     "data": {
      "text/plain": [
       "''"
      ]
     },
     "execution_count": 4,
     "metadata": {},
     "output_type": "execute_result"
    }
   ],
   "source": [
    "s = str()\n",
    "s"
   ]
  },
  {
   "cell_type": "code",
   "execution_count": 5,
   "metadata": {},
   "outputs": [
    {
     "name": "stdout",
     "output_type": "stream",
     "text": [
      "Awais\n",
      "Awais\n"
     ]
    }
   ],
   "source": [
    "# making a oops \n",
    "class Student:\n",
    "    name = \"Awais\"\n",
    "s1 = Student()\n",
    "print(s1.name)  # Output: Awais\n",
    "# makin a oops\n",
    "s2 = Student()\n",
    "print(s2.name)  # Output: Awais name remain same "
   ]
  },
  {
   "cell_type": "code",
   "execution_count": 6,
   "metadata": {},
   "outputs": [
    {
     "name": "stdout",
     "output_type": "stream",
     "text": [
      "blue\n",
      "mercedes\n"
     ]
    }
   ],
   "source": [
    "# making car color \n",
    "class Car:\n",
    "    color = \"blue\"\n",
    "    brand = \"mercedes\"\n",
    "Car1 = Car()\n",
    "print(Car1.color)  # prints: blue\n",
    "print(Car1.brand) # prints: mercedes"
   ]
  },
  {
   "cell_type": "code",
   "execution_count": 7,
   "metadata": {},
   "outputs": [
    {
     "name": "stdout",
     "output_type": "stream",
     "text": [
      "adding a new student in Database\n",
      "<__main__.Student object at 0x000001E14FDABEF0>\n",
      "<__main__.Student object at 0x000001E14FDABEF0>\n"
     ]
    }
   ],
   "source": [
    "class Student:\n",
    "    name = \"Awais\"\n",
    "    def __init__(self):\n",
    "        print(\"adding a new student in Database\")\n",
    "        print(self)\n",
    "    \n",
    "s1 = Student()\n",
    "print(s1)\n",
    "    "
   ]
  },
  {
   "cell_type": "code",
   "execution_count": 9,
   "metadata": {},
   "outputs": [],
   "source": [
    "# create a object \n",
    "# object name = class name()\n"
   ]
  },
  {
   "cell_type": "code",
   "execution_count": 10,
   "metadata": {},
   "outputs": [
    {
     "name": "stdout",
     "output_type": "stream",
     "text": [
      "Area: 1520.53084433746\n",
      "Perimeter: 138.23007675795088\n"
     ]
    }
   ],
   "source": [
    "import math as m\n",
    "\n",
    "r = int(input(\"Enter the radius of the circle: \"))\n",
    "\n",
    "area = m.pi * r ** 2\n",
    "perimeter = 2 * m.pi * r\n",
    "\n",
    "class Circle:\n",
    "    def __init__(self, radius):\n",
    "        self.radius = radius\n",
    "        self.area = m.pi * radius ** 2\n",
    "        self.perimeter = 2 * m.pi * radius\n",
    "\n",
    "p = Circle(r)\n",
    "print(\"Area:\", p.area)\n",
    "print(\"Perimeter:\", p.perimeter)\n"
   ]
  },
  {
   "cell_type": "code",
   "execution_count": 11,
   "metadata": {},
   "outputs": [
    {
     "name": "stdout",
     "output_type": "stream",
     "text": [
      "<class '__main__.instructor'>\n"
     ]
    }
   ],
   "source": [
    "class instructor:\n",
    "    pass\n",
    "instructor_1=instructor()\n",
    "print(type(instructor_1))"
   ]
  },
  {
   "cell_type": "code",
   "execution_count": 12,
   "metadata": {},
   "outputs": [
    {
     "name": "stdout",
     "output_type": "stream",
     "text": [
      "Awais\n",
      "Islamabad\n",
      "Natsha\n",
      "Karachi\n"
     ]
    }
   ],
   "source": [
    "class instructor:\n",
    "    pass                        # do nothing just passing it \n",
    "instructor_1=instructor()\n",
    "instructor_1.name=\"Awais\"\n",
    "instructor_1.address=\"Islamabad\"\n",
    "print(instructor_1.name)\n",
    "print(instructor_1.address)\n",
    "instructor_2=instructor()\n",
    "instructor_2.name=\"Natsha\"\n",
    "instructor_2.address=\"Karachi\"\n",
    "print(instructor_2.name)\n",
    "print(instructor_2.address)\n",
    "\n"
   ]
  },
  {
   "cell_type": "code",
   "execution_count": 13,
   "metadata": {},
   "outputs": [
    {
     "name": "stdout",
     "output_type": "stream",
     "text": [
      "hi Awais Baloch you avg score is 92.0\n"
     ]
    }
   ],
   "source": [
    "class Student:\n",
    "    def __init__(self,name,marks):\n",
    "        self.name=name\n",
    "        self.marks=marks\n",
    "    def get_avg(self):\n",
    "        sum = 0\n",
    "        for val in self.marks:\n",
    "            sum += val\n",
    "        print(\"hi\", self.name, \"you avg score is\", sum/3)\n",
    "\n",
    "s = Student(\"Awais Baloch\", [90,96,90])\n",
    "s.get_avg()\n",
    "\n"
   ]
  },
  {
   "cell_type": "code",
   "execution_count": 14,
   "metadata": {},
   "outputs": [],
   "source": [
    "class Atm:\n",
    "    def __init__(self):\n",
    "        self.pin = ''\n",
    "        self.balance = 0\n",
    "        self.menue()\n",
    "\n",
    "    def menue(self):\n",
    "        user_input= input(\"\"\"\n",
    "        Hi how can i help you ?\n",
    "        1. press 1 to create pin.\n",
    "        2. press 2 to change pin.\n",
    "        3. press 3 to check balance.\n",
    "        4. pres 4 to withdraw\n",
    "        5. anything else to exit\n",
    "        \"\"\")\n",
    "        if user_input == '1':\n",
    "            self.create_pin()\n",
    "        elif user_input == '2':\n",
    "            self.change_pin()\n",
    "        elif user_input == '3':\n",
    "            self.check_balance()\n",
    "        elif user_input == '4':\n",
    "            self.withdraw()\n",
    "        else:\n",
    "            exit\n",
    "\n",
    "    def create_pin(self):\n",
    "        user_pin = input(\"Enter your pin\")\n",
    "        self.pin = user_pin\n",
    "\n",
    "        user_balance = input(\"Enter our balance\")\n",
    "        self.balance = user_balance\n",
    "        self.menue()\n",
    "        print(\"Pin created successfully \")\n",
    "    def change_pin(self):\n",
    "        old_pin = input(\"Enter your old pin\")\n",
    "        self.pin = old_pin\n",
    "        if self.pin == old_pin:\n",
    "            new_pin = input(\"Enter your new pin\")\n",
    "            self.pin = new_pin\n",
    "        else:\n",
    "            print(\"Invalid pin\")\n",
    "        self.menue()\n",
    "        print(\"Pin changed succeswsfully \")\n",
    "    def check_balance(self):\n",
    "        user_pin = input(\"Enter your pin\")\n",
    "        if user_pin == self.pin:\n",
    "            print(\"Your balance is \", self.balance)\n",
    "        else:\n",
    "            print(\"Invalid pin\")\n",
    "        self.menue()\n",
    "    def withdraw(self):\n",
    "        user_pin = input(\"Enter you pin\")\n",
    "        if user_pin == self.pin:\n",
    "            amount = input(\"Enter the amount \")\n",
    "            if amount <= self.balance:\n",
    "                self.balance -=amount\n",
    "                print(\"Amount withdraw successfully, \", self.balance)\n",
    "            else:\n",
    "                print(\"Insufficient balance\")\n",
    "        else:\n",
    "            print(\"Invalid pin\")\n",
    "        self.menue()\n",
    "\n",
    "    "
   ]
  },
  {
   "cell_type": "code",
   "execution_count": 15,
   "metadata": {},
   "outputs": [
    {
     "name": "stdout",
     "output_type": "stream",
     "text": [
      "Pin created successfully \n"
     ]
    }
   ],
   "source": [
    "atm1 = Atm()"
   ]
  },
  {
   "cell_type": "code",
   "execution_count": 16,
   "metadata": {},
   "outputs": [],
   "source": [
    "class Fraction:\n",
    "\n",
    "  # parameterized constructor\n",
    "  def __init__(self,x,y):\n",
    "    self.num = x\n",
    "    self.den = y\n",
    "\n",
    "  def __str__(self):\n",
    "    return '{}/{}'.format(self.num,self.den)\n",
    "\n",
    "  def __add__(self,other):\n",
    "    new_num = self.num*other.den + other.num*self.den\n",
    "    new_den = self.den*other.den\n",
    "\n",
    "    return '{}/{}'.format(new_num,new_den)\n",
    "\n",
    "  def __sub__(self,other):\n",
    "    new_num = self.num*other.den - other.num*self.den\n",
    "    new_den = self.den*other.den\n",
    "\n",
    "    return '{}/{}'.format(new_num,new_den)\n",
    "\n",
    "  def __mul__(self,other):\n",
    "    new_num = self.num*other.num\n",
    "    new_den = self.den*other.den\n",
    "\n",
    "    return '{}/{}'.format(new_num,new_den)\n",
    "\n",
    "  def __truediv__(self,other):\n",
    "    new_num = self.num*other.den\n",
    "    new_den = self.den*other.num\n",
    "\n",
    "    return '{}/{}'.format(new_num,new_den)\n",
    "\n",
    "  def convert_to_decimal(self):\n",
    "    return self.num/self.den"
   ]
  },
  {
   "cell_type": "code",
   "execution_count": 18,
   "metadata": {},
   "outputs": [
    {
     "name": "stdout",
     "output_type": "stream",
     "text": [
      "10/8\n",
      "2/8\n",
      "3/8\n",
      "6/4\n"
     ]
    }
   ],
   "source": [
    "fr1 = Fraction(3,4)\n",
    "fr2 = Fraction(1,2)\n",
    "print(fr1 + fr2)\n",
    "print(fr1 - fr2)\n",
    "print(fr1 * fr2)\n",
    "print(fr1 / fr2)"
   ]
  },
  {
   "cell_type": "code",
   "execution_count": null,
   "metadata": {},
   "outputs": [],
   "source": []
  }
 ],
 "metadata": {
  "kernelspec": {
   "display_name": "Python 3",
   "language": "python",
   "name": "python3"
  },
  "language_info": {
   "codemirror_mode": {
    "name": "ipython",
    "version": 3
   },
   "file_extension": ".py",
   "mimetype": "text/x-python",
   "name": "python",
   "nbconvert_exporter": "python",
   "pygments_lexer": "ipython3",
   "version": "3.12.2"
  }
 },
 "nbformat": 4,
 "nbformat_minor": 2
}
