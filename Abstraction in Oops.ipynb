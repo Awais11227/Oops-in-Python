{
 "cells": [
  {
   "cell_type": "markdown",
   "metadata": {},
   "source": [
    "# Abstraction in Oops \n",
    "# By Awais Manzoor\n",
    "# Data Analyst"
   ]
  },
  {
   "cell_type": "markdown",
   "metadata": {},
   "source": [
    "#Abstraction\n"
   ]
  },
  {
   "cell_type": "code",
   "execution_count": 6,
   "metadata": {},
   "outputs": [
    {
     "data": {
      "text/plain": [
       "' Abstraction is an OOP principle that hides the complex implementation details and only exposes essential features. It helps in creating a blueprint for future classes without specifying the exact details of how they work.'"
      ]
     },
     "execution_count": 6,
     "metadata": {},
     "output_type": "execute_result"
    }
   ],
   "source": [
    "\"\"\" Abstraction is an OOP principle that hides the complex implementation details and only exposes essential features. It helps in creating a blueprint for future classes without specifying the exact details of how they work.\"\"\""
   ]
  },
  {
   "cell_type": "code",
   "execution_count": 1,
   "metadata": {},
   "outputs": [],
   "source": [
    "from abc import ABC, abstractmethod  # Importing ABC (Abstract Base Class) and abstractmethod\n",
    "\n",
    "# Defining an abstract class 'BankApp' that acts as a blueprint for other classes\n",
    "class BankApp(ABC):  \n",
    "\n",
    "    def database(self):\n",
    "        \"\"\"Concrete method: Simulates a connection to the bank's database\"\"\"\n",
    "        print('Connected to database')\n",
    "\n",
    "    @abstractmethod\n",
    "    def security(self):\n",
    "        # Abstract method:\n",
    "        pass\n",
    "\n",
    "    @abstractmethod\n",
    "    def display(self):\n",
    "        \"\"\"Abstract method:\"\"\"\n",
    "        pass\n"
   ]
  },
  {
   "cell_type": "code",
   "execution_count": 2,
   "metadata": {},
   "outputs": [],
   "source": [
    "class MobileApp(BankApp):\n",
    "\n",
    "  def mobile_login(self):\n",
    "    print('login into mobile')\n",
    "\n",
    "  def security(self):\n",
    "    print('mobile security')\n",
    "\n",
    "  def display(self):\n",
    "    print('display')"
   ]
  },
  {
   "cell_type": "code",
   "execution_count": 3,
   "metadata": {},
   "outputs": [],
   "source": [
    "mob = MobileApp()"
   ]
  },
  {
   "cell_type": "code",
   "execution_count": 4,
   "metadata": {},
   "outputs": [
    {
     "name": "stdout",
     "output_type": "stream",
     "text": [
      "mobile security\n"
     ]
    }
   ],
   "source": [
    "mob.security()"
   ]
  },
  {
   "cell_type": "code",
   "execution_count": 7,
   "metadata": {},
   "outputs": [
    {
     "name": "stdout",
     "output_type": "stream",
     "text": [
      "Car engine started with a key. 🚗\n",
      "Electric car started silently with a button. ⚡🚘\n",
      "This vehicle runs on fuel.\n"
     ]
    }
   ],
   "source": [
    "from abc import ABC, abstractmethod  # Importing Abstract Base Class module\n",
    "\n",
    "# Abstract class (blueprint)\n",
    "class Vehicle(ABC):\n",
    "\n",
    "    @abstractmethod\n",
    "    def start_engine(self):\n",
    "        \"\"\"Abstract method that must be implemented in subclasses\"\"\"\n",
    "        pass\n",
    "\n",
    "    def fuel_type(self):\n",
    "        \"\"\"Concrete method with default implementation\"\"\"\n",
    "        print(\"This vehicle runs on fuel.\")\n",
    "\n",
    "# Derived class implementing the abstract method\n",
    "class Car(Vehicle):\n",
    "\n",
    "    def start_engine(self):\n",
    "        print(\"Car engine started with a key. 🚗\")\n",
    "\n",
    "# Derived class implementing the abstract method differently\n",
    "class ElectricCar(Vehicle):\n",
    "\n",
    "    def start_engine(self):\n",
    "        print(\"Electric car started silently with a button. ⚡🚘\")\n",
    "\n",
    "# Creating objects\n",
    "car = Car()\n",
    "ev = ElectricCar()\n",
    "\n",
    "# Calling methods\n",
    "car.start_engine()  # Output: Car engine started with a key. 🚗\n",
    "ev.start_engine()   # Output: Electric car started silently with a button. ⚡🚘\n",
    "car.fuel_type()     # Output: This vehicle runs on fuel.\n"
   ]
  },
  {
   "cell_type": "markdown",
   "metadata": {},
   "source": [
    "# Preparation\n"
   ]
  },
  {
   "cell_type": "code",
   "execution_count": 5,
   "metadata": {},
   "outputs": [
    {
     "name": "stdout",
     "output_type": "stream",
     "text": [
      "\n",
      "--- Rectangle ---\n",
      "Area of Rectangle: 968.0 square units\n",
      "\n",
      "--- Triangle ---\n",
      "Area of Triangle: 192.5 square units\n"
     ]
    }
   ],
   "source": [
    "from abc import ABC, abstractmethod  # Importing Abstract Base Class (ABC)\n",
    "\n",
    "# Abstract class Polygon\n",
    "class Polygon(ABC):\n",
    "\n",
    "    @abstractmethod\n",
    "    def get_dimensions(self):\n",
    "        \"\"\"Abstract method to get dimensions\"\"\"\n",
    "        pass\n",
    "\n",
    "    @abstractmethod\n",
    "    def calculate_area(self):\n",
    "        \"\"\"Abstract method to calculate area\"\"\"\n",
    "        pass\n",
    "\n",
    "# Rectangle class inheriting from Polygon\n",
    "class Rectangle(Polygon):\n",
    "\n",
    "    def __init__(self):\n",
    "        self.length = 0\n",
    "        self.width = 0\n",
    "\n",
    "    def get_dimensions(self):\n",
    "        \"\"\"Get length and width from the user\"\"\"\n",
    "        self.length = float(input(\"Enter the length of the rectangle: \"))\n",
    "        self.width = float(input(\"Enter the width of the rectangle: \"))\n",
    "\n",
    "    def calculate_area(self):\n",
    "        \"\"\"Calculate and return the area of the rectangle\"\"\"\n",
    "        return self.length * self.width\n",
    "\n",
    "# Triangle class inheriting from Polygon\n",
    "class Triangle(Polygon):\n",
    "\n",
    "    def __init__(self):\n",
    "        self.base = 0\n",
    "        self.height = 0\n",
    "\n",
    "    def get_dimensions(self):\n",
    "        \"\"\"Get base and height from the user\"\"\"\n",
    "        self.base = float(input(\"Enter the base of the triangle: \"))\n",
    "        self.height = float(input(\"Enter the height of the triangle: \"))\n",
    "\n",
    "    def calculate_area(self):\n",
    "        \"\"\"Calculate and return the area of the triangle\"\"\"\n",
    "        return 0.5 * self.base * self.height\n",
    "\n",
    "# Main function to demonstrate the program\n",
    "def main():\n",
    "    # Creating objects\n",
    "    rect = Rectangle()\n",
    "    tri = Triangle()\n",
    "\n",
    "    # Getting dimensions and calculating areas\n",
    "    print(\"\\n--- Rectangle ---\")\n",
    "    rect.get_dimensions()\n",
    "    print(f\"Area of Rectangle: {rect.calculate_area()} square units\")\n",
    "\n",
    "    print(\"\\n--- Triangle ---\")\n",
    "    tri.get_dimensions()\n",
    "    print(f\"Area of Triangle: {tri.calculate_area()} square units\")\n",
    "\n",
    "# Run the main function\n",
    "if __name__ == \"__main__\":\n",
    "    main()\n"
   ]
  },
  {
   "cell_type": "code",
   "execution_count": null,
   "metadata": {},
   "outputs": [],
   "source": []
  }
 ],
 "metadata": {
  "kernelspec": {
   "display_name": "Python 3",
   "language": "python",
   "name": "python3"
  },
  "language_info": {
   "codemirror_mode": {
    "name": "ipython",
    "version": 3
   },
   "file_extension": ".py",
   "mimetype": "text/x-python",
   "name": "python",
   "nbconvert_exporter": "python",
   "pygments_lexer": "ipython3",
   "version": "3.12.2"
  }
 },
 "nbformat": 4,
 "nbformat_minor": 2
}
